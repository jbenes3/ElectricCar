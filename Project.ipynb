{
 "cells": [
  {
   "cell_type": "code",
   "execution_count": 3,
   "id": "8ef53264",
   "metadata": {},
   "outputs": [
    {
     "data": {
      "application/vnd.plotly.v1+json": {
       "config": {
        "plotlyServerURL": "https://plot.ly"
       },
       "data": [
        {
         "branchvalues": "total",
         "customdata": [
          [
           "BMW"
          ],
          [
           "RIVIAN"
          ],
          [
           "VOLKSWAGEN"
          ],
          [
           "TESLA"
          ],
          [
           "FORD"
          ],
          [
           "TOYOTA"
          ],
          [
           "CHEVROLET"
          ],
          [
           "CHEVROLET"
          ],
          [
           "CHEVROLET"
          ],
          [
           "NISSAN"
          ],
          [
           "BMW"
          ],
          [
           "BMW"
          ],
          [
           "BMW"
          ],
          [
           "BMW"
          ],
          [
           "BMW"
          ],
          [
           "BMW"
          ],
          [
           "CHEVROLET"
          ],
          [
           "FORD"
          ],
          [
           "BMW"
          ],
          [
           "FORD"
          ],
          [
           "FORD"
          ],
          [
           "FORD"
          ],
          [
           "KIA"
          ],
          [
           "CHEVROLET"
          ],
          [
           "KIA"
          ],
          [
           "BMW"
          ],
          [
           "BMW"
          ],
          [
           "BMW"
          ],
          [
           "BMW"
          ],
          [
           "VOLKSWAGEN"
          ],
          [
           "VOLKSWAGEN"
          ],
          [
           "HYUNDAI"
          ],
          [
           "HYUNDAI"
          ],
          [
           "BMW"
          ],
          [
           "TESLA"
          ],
          [
           "TOYOTA"
          ],
          [
           "NISSAN"
          ],
          [
           "HYUNDAI"
          ],
          [
           "HYUNDAI"
          ],
          [
           "BMW"
          ],
          [
           "HYUNDAI"
          ],
          [
           "HYUNDAI"
          ],
          [
           "TESLA"
          ],
          [
           "TESLA"
          ],
          [
           "TESLA"
          ],
          [
           "FORD"
          ],
          [
           "KIA"
          ],
          [
           "KIA"
          ],
          [
           "TOYOTA"
          ],
          [
           "TOYOTA"
          ],
          [
           "RIVIAN"
          ],
          [
           "RIVIAN"
          ],
          [
           "TOYOTA"
          ],
          [
           "TOYOTA"
          ],
          [
           "FORD"
          ],
          [
           "TESLA"
          ],
          [
           "HYUNDAI"
          ],
          [
           "CHEVROLET"
          ],
          [
           "HYUNDAI"
          ],
          [
           "KIA"
          ],
          [
           "KIA"
          ],
          [
           "KIA"
          ],
          [
           "CHEVROLET"
          ],
          [
           "KIA"
          ],
          [
           "FORD"
          ],
          [
           "HYUNDAI"
          ],
          [
           "CHEVROLET"
          ],
          [
           "BMW"
          ],
          [
           "BMW"
          ],
          [
           "BMW"
          ],
          [
           "BMW"
          ],
          [
           "CHEVROLET"
          ],
          [
           "FORD"
          ],
          [
           "HYUNDAI"
          ],
          [
           "KIA"
          ],
          [
           "NISSAN"
          ],
          [
           "RIVIAN"
          ],
          [
           "TESLA"
          ],
          [
           "TOYOTA"
          ],
          [
           "VOLKSWAGEN"
          ]
         ],
         "domain": {
          "x": [
           0,
           1
          ],
          "y": [
           0,
           1
          ]
         },
         "hovertemplate": "labels=%{label}<br>count=%{value}<br>parent=%{parent}<br>id=%{id}<br>Make=%{customdata[0]}<extra></extra>",
         "ids": [
          "BMW/330E",
          "RIVIAN/EDV",
          "VOLKSWAGEN/E-GOLF",
          "TESLA/CYBERTRUCK",
          "FORD/C-MAX",
          "TOYOTA/BZ4X",
          "CHEVROLET/BRIGHTDROP 400",
          "CHEVROLET/BOLT EUV",
          "CHEVROLET/BOLT EV",
          "NISSAN/ARIYA",
          "BMW/750E",
          "BMW/745LE",
          "BMW/745E",
          "BMW/740E",
          "BMW/550E",
          "BMW/530E",
          "CHEVROLET/BLAZER EV",
          "FORD/FOCUS",
          "BMW/I3",
          "FORD/FUSION",
          "FORD/F-150",
          "FORD/ESCAPE",
          "KIA/EV6",
          "CHEVROLET/EQUINOX EV",
          "KIA/EV9",
          "BMW/I4",
          "BMW/I5",
          "BMW/I7",
          "BMW/I8",
          "VOLKSWAGEN/ID. BUZZ",
          "VOLKSWAGEN/ID.4",
          "HYUNDAI/IONIQ",
          "HYUNDAI/IONIQ 5",
          "BMW/M5",
          "TESLA/MODEL 3",
          "TOYOTA/MIRAI",
          "NISSAN/LEAF",
          "HYUNDAI/IONIQ 6",
          "HYUNDAI/KONA",
          "BMW/IX",
          "HYUNDAI/IONIQ 5 N",
          "HYUNDAI/KONA ELECTRIC",
          "TESLA/MODEL S",
          "TESLA/MODEL X",
          "TESLA/MODEL Y",
          "FORD/MUSTANG MACH-E",
          "KIA/NIRO",
          "KIA/OPTIMA",
          "TOYOTA/PRIUS PLUG-IN",
          "TOYOTA/PRIUS PRIME",
          "RIVIAN/R1S",
          "RIVIAN/R1T",
          "TOYOTA/RAV4 PRIME",
          "TOYOTA/RAV4",
          "FORD/RANGER",
          "TESLA/ROADSTER",
          "HYUNDAI/SANTA FE",
          "CHEVROLET/SILVERADO EV",
          "HYUNDAI/SONATA",
          "KIA/SORENTO",
          "KIA/SOUL",
          "KIA/SOUL EV",
          "CHEVROLET/SPARK",
          "KIA/SPORTAGE",
          "FORD/TRANSIT",
          "HYUNDAI/TUCSON",
          "CHEVROLET/VOLT",
          "BMW/X5",
          "BMW/X3",
          "BMW/XM",
          "BMW",
          "CHEVROLET",
          "FORD",
          "HYUNDAI",
          "KIA",
          "NISSAN",
          "RIVIAN",
          "TESLA",
          "TOYOTA",
          "VOLKSWAGEN"
         ],
         "labels": [
          "330E",
          "EDV",
          "E-GOLF",
          "CYBERTRUCK",
          "C-MAX",
          "BZ4X",
          "BRIGHTDROP 400",
          "BOLT EUV",
          "BOLT EV",
          "ARIYA",
          "750E",
          "745LE",
          "745E",
          "740E",
          "550E",
          "530E",
          "BLAZER EV",
          "FOCUS",
          "I3",
          "FUSION",
          "F-150",
          "ESCAPE",
          "EV6",
          "EQUINOX EV",
          "EV9",
          "I4",
          "I5",
          "I7",
          "I8",
          "ID. BUZZ",
          "ID.4",
          "IONIQ",
          "IONIQ 5",
          "M5",
          "MODEL 3",
          "MIRAI",
          "LEAF",
          "IONIQ 6",
          "KONA",
          "IX",
          "IONIQ 5 N",
          "KONA ELECTRIC",
          "MODEL S",
          "MODEL X",
          "MODEL Y",
          "MUSTANG MACH-E",
          "NIRO",
          "OPTIMA",
          "PRIUS PLUG-IN",
          "PRIUS PRIME",
          "R1S",
          "R1T",
          "RAV4 PRIME",
          "RAV4",
          "RANGER",
          "ROADSTER",
          "SANTA FE",
          "SILVERADO EV",
          "SONATA",
          "SORENTO",
          "SOUL",
          "SOUL EV",
          "SPARK",
          "SPORTAGE",
          "TRANSIT",
          "TUCSON",
          "VOLT",
          "X5",
          "X3",
          "XM",
          "BMW",
          "CHEVROLET",
          "FORD",
          "HYUNDAI",
          "KIA",
          "NISSAN",
          "RIVIAN",
          "TESLA",
          "TOYOTA",
          "VOLKSWAGEN"
         ],
         "marker": {
          "colors": [
           "rgb(141,211,199)",
           "rgb(255,255,179)",
           "rgb(190,186,218)",
           "rgb(251,128,114)",
           "rgb(128,177,211)",
           "rgb(253,180,98)",
           "rgb(179,222,105)",
           "rgb(179,222,105)",
           "rgb(179,222,105)",
           "rgb(252,205,229)",
           "rgb(141,211,199)",
           "rgb(141,211,199)",
           "rgb(141,211,199)",
           "rgb(141,211,199)",
           "rgb(141,211,199)",
           "rgb(141,211,199)",
           "rgb(179,222,105)",
           "rgb(128,177,211)",
           "rgb(141,211,199)",
           "rgb(128,177,211)",
           "rgb(128,177,211)",
           "rgb(128,177,211)",
           "rgb(217,217,217)",
           "rgb(179,222,105)",
           "rgb(217,217,217)",
           "rgb(141,211,199)",
           "rgb(141,211,199)",
           "rgb(141,211,199)",
           "rgb(141,211,199)",
           "rgb(190,186,218)",
           "rgb(190,186,218)",
           "rgb(188,128,189)",
           "rgb(188,128,189)",
           "rgb(141,211,199)",
           "rgb(251,128,114)",
           "rgb(253,180,98)",
           "rgb(252,205,229)",
           "rgb(188,128,189)",
           "rgb(188,128,189)",
           "rgb(141,211,199)",
           "rgb(188,128,189)",
           "rgb(188,128,189)",
           "rgb(251,128,114)",
           "rgb(251,128,114)",
           "rgb(251,128,114)",
           "rgb(128,177,211)",
           "rgb(217,217,217)",
           "rgb(217,217,217)",
           "rgb(253,180,98)",
           "rgb(253,180,98)",
           "rgb(255,255,179)",
           "rgb(255,255,179)",
           "rgb(253,180,98)",
           "rgb(253,180,98)",
           "rgb(128,177,211)",
           "rgb(251,128,114)",
           "rgb(188,128,189)",
           "rgb(179,222,105)",
           "rgb(188,128,189)",
           "rgb(217,217,217)",
           "rgb(217,217,217)",
           "rgb(217,217,217)",
           "rgb(179,222,105)",
           "rgb(217,217,217)",
           "rgb(128,177,211)",
           "rgb(188,128,189)",
           "rgb(179,222,105)",
           "rgb(141,211,199)",
           "rgb(141,211,199)",
           "rgb(141,211,199)",
           "rgb(141,211,199)",
           "rgb(179,222,105)",
           "rgb(128,177,211)",
           "rgb(188,128,189)",
           "rgb(217,217,217)",
           "rgb(252,205,229)",
           "rgb(255,255,179)",
           "rgb(251,128,114)",
           "rgb(253,180,98)",
           "rgb(190,186,218)"
          ]
         },
         "name": "",
         "parents": [
          "BMW",
          "RIVIAN",
          "VOLKSWAGEN",
          "TESLA",
          "FORD",
          "TOYOTA",
          "CHEVROLET",
          "CHEVROLET",
          "CHEVROLET",
          "NISSAN",
          "BMW",
          "BMW",
          "BMW",
          "BMW",
          "BMW",
          "BMW",
          "CHEVROLET",
          "FORD",
          "BMW",
          "FORD",
          "FORD",
          "FORD",
          "KIA",
          "CHEVROLET",
          "KIA",
          "BMW",
          "BMW",
          "BMW",
          "BMW",
          "VOLKSWAGEN",
          "VOLKSWAGEN",
          "HYUNDAI",
          "HYUNDAI",
          "BMW",
          "TESLA",
          "TOYOTA",
          "NISSAN",
          "HYUNDAI",
          "HYUNDAI",
          "BMW",
          "HYUNDAI",
          "HYUNDAI",
          "TESLA",
          "TESLA",
          "TESLA",
          "FORD",
          "KIA",
          "KIA",
          "TOYOTA",
          "TOYOTA",
          "RIVIAN",
          "RIVIAN",
          "TOYOTA",
          "TOYOTA",
          "FORD",
          "TESLA",
          "HYUNDAI",
          "CHEVROLET",
          "HYUNDAI",
          "KIA",
          "KIA",
          "KIA",
          "CHEVROLET",
          "KIA",
          "FORD",
          "HYUNDAI",
          "CHEVROLET",
          "BMW",
          "BMW",
          "BMW",
          "",
          "",
          "",
          "",
          "",
          "",
          "",
          "",
          "",
          ""
         ],
         "type": "treemap",
         "values": [
          515,
          842,
          1070,
          1292,
          1454,
          1342,
          1,
          2860,
          7278,
          1718,
          4,
          3,
          15,
          27,
          6,
          436,
          880,
          229,
          1944,
          1708,
          3016,
          562,
          3430,
          870,
          1387,
          1657,
          222,
          62,
          92,
          64,
          4842,
          321,
          4056,
          10,
          36065,
          2,
          13814,
          682,
          238,
          1297,
          43,
          1153,
          7885,
          6535,
          49253,
          5109,
          3892,
          98,
          945,
          3398,
          3641,
          2267,
          3734,
          57,
          7,
          50,
          253,
          301,
          77,
          785,
          380,
          207,
          236,
          1166,
          520,
          583,
          4709,
          2988,
          344,
          25,
          9647,
          17135,
          12605,
          7406,
          11345,
          15532,
          6750,
          101080,
          9478,
          5976
         ]
        }
       ],
       "layout": {
        "legend": {
         "tracegroupgap": 0
        },
        "template": {
         "data": {
          "bar": [
           {
            "error_x": {
             "color": "#2a3f5f"
            },
            "error_y": {
             "color": "#2a3f5f"
            },
            "marker": {
             "line": {
              "color": "#E5ECF6",
              "width": 0.5
             },
             "pattern": {
              "fillmode": "overlay",
              "size": 10,
              "solidity": 0.2
             }
            },
            "type": "bar"
           }
          ],
          "barpolar": [
           {
            "marker": {
             "line": {
              "color": "#E5ECF6",
              "width": 0.5
             },
             "pattern": {
              "fillmode": "overlay",
              "size": 10,
              "solidity": 0.2
             }
            },
            "type": "barpolar"
           }
          ],
          "carpet": [
           {
            "aaxis": {
             "endlinecolor": "#2a3f5f",
             "gridcolor": "white",
             "linecolor": "white",
             "minorgridcolor": "white",
             "startlinecolor": "#2a3f5f"
            },
            "baxis": {
             "endlinecolor": "#2a3f5f",
             "gridcolor": "white",
             "linecolor": "white",
             "minorgridcolor": "white",
             "startlinecolor": "#2a3f5f"
            },
            "type": "carpet"
           }
          ],
          "choropleth": [
           {
            "colorbar": {
             "outlinewidth": 0,
             "ticks": ""
            },
            "type": "choropleth"
           }
          ],
          "contour": [
           {
            "colorbar": {
             "outlinewidth": 0,
             "ticks": ""
            },
            "colorscale": [
             [
              0,
              "#0d0887"
             ],
             [
              0.1111111111111111,
              "#46039f"
             ],
             [
              0.2222222222222222,
              "#7201a8"
             ],
             [
              0.3333333333333333,
              "#9c179e"
             ],
             [
              0.4444444444444444,
              "#bd3786"
             ],
             [
              0.5555555555555556,
              "#d8576b"
             ],
             [
              0.6666666666666666,
              "#ed7953"
             ],
             [
              0.7777777777777778,
              "#fb9f3a"
             ],
             [
              0.8888888888888888,
              "#fdca26"
             ],
             [
              1,
              "#f0f921"
             ]
            ],
            "type": "contour"
           }
          ],
          "contourcarpet": [
           {
            "colorbar": {
             "outlinewidth": 0,
             "ticks": ""
            },
            "type": "contourcarpet"
           }
          ],
          "heatmap": [
           {
            "colorbar": {
             "outlinewidth": 0,
             "ticks": ""
            },
            "colorscale": [
             [
              0,
              "#0d0887"
             ],
             [
              0.1111111111111111,
              "#46039f"
             ],
             [
              0.2222222222222222,
              "#7201a8"
             ],
             [
              0.3333333333333333,
              "#9c179e"
             ],
             [
              0.4444444444444444,
              "#bd3786"
             ],
             [
              0.5555555555555556,
              "#d8576b"
             ],
             [
              0.6666666666666666,
              "#ed7953"
             ],
             [
              0.7777777777777778,
              "#fb9f3a"
             ],
             [
              0.8888888888888888,
              "#fdca26"
             ],
             [
              1,
              "#f0f921"
             ]
            ],
            "type": "heatmap"
           }
          ],
          "heatmapgl": [
           {
            "colorbar": {
             "outlinewidth": 0,
             "ticks": ""
            },
            "colorscale": [
             [
              0,
              "#0d0887"
             ],
             [
              0.1111111111111111,
              "#46039f"
             ],
             [
              0.2222222222222222,
              "#7201a8"
             ],
             [
              0.3333333333333333,
              "#9c179e"
             ],
             [
              0.4444444444444444,
              "#bd3786"
             ],
             [
              0.5555555555555556,
              "#d8576b"
             ],
             [
              0.6666666666666666,
              "#ed7953"
             ],
             [
              0.7777777777777778,
              "#fb9f3a"
             ],
             [
              0.8888888888888888,
              "#fdca26"
             ],
             [
              1,
              "#f0f921"
             ]
            ],
            "type": "heatmapgl"
           }
          ],
          "histogram": [
           {
            "marker": {
             "pattern": {
              "fillmode": "overlay",
              "size": 10,
              "solidity": 0.2
             }
            },
            "type": "histogram"
           }
          ],
          "histogram2d": [
           {
            "colorbar": {
             "outlinewidth": 0,
             "ticks": ""
            },
            "colorscale": [
             [
              0,
              "#0d0887"
             ],
             [
              0.1111111111111111,
              "#46039f"
             ],
             [
              0.2222222222222222,
              "#7201a8"
             ],
             [
              0.3333333333333333,
              "#9c179e"
             ],
             [
              0.4444444444444444,
              "#bd3786"
             ],
             [
              0.5555555555555556,
              "#d8576b"
             ],
             [
              0.6666666666666666,
              "#ed7953"
             ],
             [
              0.7777777777777778,
              "#fb9f3a"
             ],
             [
              0.8888888888888888,
              "#fdca26"
             ],
             [
              1,
              "#f0f921"
             ]
            ],
            "type": "histogram2d"
           }
          ],
          "histogram2dcontour": [
           {
            "colorbar": {
             "outlinewidth": 0,
             "ticks": ""
            },
            "colorscale": [
             [
              0,
              "#0d0887"
             ],
             [
              0.1111111111111111,
              "#46039f"
             ],
             [
              0.2222222222222222,
              "#7201a8"
             ],
             [
              0.3333333333333333,
              "#9c179e"
             ],
             [
              0.4444444444444444,
              "#bd3786"
             ],
             [
              0.5555555555555556,
              "#d8576b"
             ],
             [
              0.6666666666666666,
              "#ed7953"
             ],
             [
              0.7777777777777778,
              "#fb9f3a"
             ],
             [
              0.8888888888888888,
              "#fdca26"
             ],
             [
              1,
              "#f0f921"
             ]
            ],
            "type": "histogram2dcontour"
           }
          ],
          "mesh3d": [
           {
            "colorbar": {
             "outlinewidth": 0,
             "ticks": ""
            },
            "type": "mesh3d"
           }
          ],
          "parcoords": [
           {
            "line": {
             "colorbar": {
              "outlinewidth": 0,
              "ticks": ""
             }
            },
            "type": "parcoords"
           }
          ],
          "pie": [
           {
            "automargin": true,
            "type": "pie"
           }
          ],
          "scatter": [
           {
            "fillpattern": {
             "fillmode": "overlay",
             "size": 10,
             "solidity": 0.2
            },
            "type": "scatter"
           }
          ],
          "scatter3d": [
           {
            "line": {
             "colorbar": {
              "outlinewidth": 0,
              "ticks": ""
             }
            },
            "marker": {
             "colorbar": {
              "outlinewidth": 0,
              "ticks": ""
             }
            },
            "type": "scatter3d"
           }
          ],
          "scattercarpet": [
           {
            "marker": {
             "colorbar": {
              "outlinewidth": 0,
              "ticks": ""
             }
            },
            "type": "scattercarpet"
           }
          ],
          "scattergeo": [
           {
            "marker": {
             "colorbar": {
              "outlinewidth": 0,
              "ticks": ""
             }
            },
            "type": "scattergeo"
           }
          ],
          "scattergl": [
           {
            "marker": {
             "colorbar": {
              "outlinewidth": 0,
              "ticks": ""
             }
            },
            "type": "scattergl"
           }
          ],
          "scattermapbox": [
           {
            "marker": {
             "colorbar": {
              "outlinewidth": 0,
              "ticks": ""
             }
            },
            "type": "scattermapbox"
           }
          ],
          "scatterpolar": [
           {
            "marker": {
             "colorbar": {
              "outlinewidth": 0,
              "ticks": ""
             }
            },
            "type": "scatterpolar"
           }
          ],
          "scatterpolargl": [
           {
            "marker": {
             "colorbar": {
              "outlinewidth": 0,
              "ticks": ""
             }
            },
            "type": "scatterpolargl"
           }
          ],
          "scatterternary": [
           {
            "marker": {
             "colorbar": {
              "outlinewidth": 0,
              "ticks": ""
             }
            },
            "type": "scatterternary"
           }
          ],
          "surface": [
           {
            "colorbar": {
             "outlinewidth": 0,
             "ticks": ""
            },
            "colorscale": [
             [
              0,
              "#0d0887"
             ],
             [
              0.1111111111111111,
              "#46039f"
             ],
             [
              0.2222222222222222,
              "#7201a8"
             ],
             [
              0.3333333333333333,
              "#9c179e"
             ],
             [
              0.4444444444444444,
              "#bd3786"
             ],
             [
              0.5555555555555556,
              "#d8576b"
             ],
             [
              0.6666666666666666,
              "#ed7953"
             ],
             [
              0.7777777777777778,
              "#fb9f3a"
             ],
             [
              0.8888888888888888,
              "#fdca26"
             ],
             [
              1,
              "#f0f921"
             ]
            ],
            "type": "surface"
           }
          ],
          "table": [
           {
            "cells": {
             "fill": {
              "color": "#EBF0F8"
             },
             "line": {
              "color": "white"
             }
            },
            "header": {
             "fill": {
              "color": "#C8D4E3"
             },
             "line": {
              "color": "white"
             }
            },
            "type": "table"
           }
          ]
         },
         "layout": {
          "annotationdefaults": {
           "arrowcolor": "#2a3f5f",
           "arrowhead": 0,
           "arrowwidth": 1
          },
          "autotypenumbers": "strict",
          "coloraxis": {
           "colorbar": {
            "outlinewidth": 0,
            "ticks": ""
           }
          },
          "colorscale": {
           "diverging": [
            [
             0,
             "#8e0152"
            ],
            [
             0.1,
             "#c51b7d"
            ],
            [
             0.2,
             "#de77ae"
            ],
            [
             0.3,
             "#f1b6da"
            ],
            [
             0.4,
             "#fde0ef"
            ],
            [
             0.5,
             "#f7f7f7"
            ],
            [
             0.6,
             "#e6f5d0"
            ],
            [
             0.7,
             "#b8e186"
            ],
            [
             0.8,
             "#7fbc41"
            ],
            [
             0.9,
             "#4d9221"
            ],
            [
             1,
             "#276419"
            ]
           ],
           "sequential": [
            [
             0,
             "#0d0887"
            ],
            [
             0.1111111111111111,
             "#46039f"
            ],
            [
             0.2222222222222222,
             "#7201a8"
            ],
            [
             0.3333333333333333,
             "#9c179e"
            ],
            [
             0.4444444444444444,
             "#bd3786"
            ],
            [
             0.5555555555555556,
             "#d8576b"
            ],
            [
             0.6666666666666666,
             "#ed7953"
            ],
            [
             0.7777777777777778,
             "#fb9f3a"
            ],
            [
             0.8888888888888888,
             "#fdca26"
            ],
            [
             1,
             "#f0f921"
            ]
           ],
           "sequentialminus": [
            [
             0,
             "#0d0887"
            ],
            [
             0.1111111111111111,
             "#46039f"
            ],
            [
             0.2222222222222222,
             "#7201a8"
            ],
            [
             0.3333333333333333,
             "#9c179e"
            ],
            [
             0.4444444444444444,
             "#bd3786"
            ],
            [
             0.5555555555555556,
             "#d8576b"
            ],
            [
             0.6666666666666666,
             "#ed7953"
            ],
            [
             0.7777777777777778,
             "#fb9f3a"
            ],
            [
             0.8888888888888888,
             "#fdca26"
            ],
            [
             1,
             "#f0f921"
            ]
           ]
          },
          "colorway": [
           "#636efa",
           "#EF553B",
           "#00cc96",
           "#ab63fa",
           "#FFA15A",
           "#19d3f3",
           "#FF6692",
           "#B6E880",
           "#FF97FF",
           "#FECB52"
          ],
          "font": {
           "color": "#2a3f5f"
          },
          "geo": {
           "bgcolor": "white",
           "lakecolor": "white",
           "landcolor": "#E5ECF6",
           "showlakes": true,
           "showland": true,
           "subunitcolor": "white"
          },
          "hoverlabel": {
           "align": "left"
          },
          "hovermode": "closest",
          "mapbox": {
           "style": "light"
          },
          "paper_bgcolor": "white",
          "plot_bgcolor": "#E5ECF6",
          "polar": {
           "angularaxis": {
            "gridcolor": "white",
            "linecolor": "white",
            "ticks": ""
           },
           "bgcolor": "#E5ECF6",
           "radialaxis": {
            "gridcolor": "white",
            "linecolor": "white",
            "ticks": ""
           }
          },
          "scene": {
           "xaxis": {
            "backgroundcolor": "#E5ECF6",
            "gridcolor": "white",
            "gridwidth": 2,
            "linecolor": "white",
            "showbackground": true,
            "ticks": "",
            "zerolinecolor": "white"
           },
           "yaxis": {
            "backgroundcolor": "#E5ECF6",
            "gridcolor": "white",
            "gridwidth": 2,
            "linecolor": "white",
            "showbackground": true,
            "ticks": "",
            "zerolinecolor": "white"
           },
           "zaxis": {
            "backgroundcolor": "#E5ECF6",
            "gridcolor": "white",
            "gridwidth": 2,
            "linecolor": "white",
            "showbackground": true,
            "ticks": "",
            "zerolinecolor": "white"
           }
          },
          "shapedefaults": {
           "line": {
            "color": "#2a3f5f"
           }
          },
          "ternary": {
           "aaxis": {
            "gridcolor": "white",
            "linecolor": "white",
            "ticks": ""
           },
           "baxis": {
            "gridcolor": "white",
            "linecolor": "white",
            "ticks": ""
           },
           "bgcolor": "#E5ECF6",
           "caxis": {
            "gridcolor": "white",
            "linecolor": "white",
            "ticks": ""
           }
          },
          "title": {
           "x": 0.05
          },
          "xaxis": {
           "automargin": true,
           "gridcolor": "white",
           "linecolor": "white",
           "ticks": "",
           "title": {
            "standoff": 15
           },
           "zerolinecolor": "white",
           "zerolinewidth": 2
          },
          "yaxis": {
           "automargin": true,
           "gridcolor": "white",
           "linecolor": "white",
           "ticks": "",
           "title": {
            "standoff": 15
           },
           "zerolinecolor": "white",
           "zerolinewidth": 2
          }
         }
        },
        "title": {
         "text": "EV Make and Model Distribution in Washington (Top 10 Makes)"
        },
        "treemapcolorway": [
         "rgb(141,211,199)",
         "rgb(255,255,179)",
         "rgb(190,186,218)",
         "rgb(251,128,114)",
         "rgb(128,177,211)",
         "rgb(253,180,98)",
         "rgb(179,222,105)",
         "rgb(252,205,229)",
         "rgb(217,217,217)",
         "rgb(188,128,189)",
         "rgb(204,235,197)",
         "rgb(255,237,111)"
        ]
       }
      },
      "text/html": [
       "<div>                            <div id=\"90f9cf10-b64f-46f6-9434-0322922c251b\" class=\"plotly-graph-div\" style=\"height:525px; width:100%;\"></div>            <script type=\"text/javascript\">                require([\"plotly\"], function(Plotly) {                    window.PLOTLYENV=window.PLOTLYENV || {};                                    if (document.getElementById(\"90f9cf10-b64f-46f6-9434-0322922c251b\")) {                    Plotly.newPlot(                        \"90f9cf10-b64f-46f6-9434-0322922c251b\",                        [{\"branchvalues\":\"total\",\"customdata\":[[\"BMW\"],[\"RIVIAN\"],[\"VOLKSWAGEN\"],[\"TESLA\"],[\"FORD\"],[\"TOYOTA\"],[\"CHEVROLET\"],[\"CHEVROLET\"],[\"CHEVROLET\"],[\"NISSAN\"],[\"BMW\"],[\"BMW\"],[\"BMW\"],[\"BMW\"],[\"BMW\"],[\"BMW\"],[\"CHEVROLET\"],[\"FORD\"],[\"BMW\"],[\"FORD\"],[\"FORD\"],[\"FORD\"],[\"KIA\"],[\"CHEVROLET\"],[\"KIA\"],[\"BMW\"],[\"BMW\"],[\"BMW\"],[\"BMW\"],[\"VOLKSWAGEN\"],[\"VOLKSWAGEN\"],[\"HYUNDAI\"],[\"HYUNDAI\"],[\"BMW\"],[\"TESLA\"],[\"TOYOTA\"],[\"NISSAN\"],[\"HYUNDAI\"],[\"HYUNDAI\"],[\"BMW\"],[\"HYUNDAI\"],[\"HYUNDAI\"],[\"TESLA\"],[\"TESLA\"],[\"TESLA\"],[\"FORD\"],[\"KIA\"],[\"KIA\"],[\"TOYOTA\"],[\"TOYOTA\"],[\"RIVIAN\"],[\"RIVIAN\"],[\"TOYOTA\"],[\"TOYOTA\"],[\"FORD\"],[\"TESLA\"],[\"HYUNDAI\"],[\"CHEVROLET\"],[\"HYUNDAI\"],[\"KIA\"],[\"KIA\"],[\"KIA\"],[\"CHEVROLET\"],[\"KIA\"],[\"FORD\"],[\"HYUNDAI\"],[\"CHEVROLET\"],[\"BMW\"],[\"BMW\"],[\"BMW\"],[\"BMW\"],[\"CHEVROLET\"],[\"FORD\"],[\"HYUNDAI\"],[\"KIA\"],[\"NISSAN\"],[\"RIVIAN\"],[\"TESLA\"],[\"TOYOTA\"],[\"VOLKSWAGEN\"]],\"domain\":{\"x\":[0.0,1.0],\"y\":[0.0,1.0]},\"hovertemplate\":\"labels=%{label}<br>count=%{value}<br>parent=%{parent}<br>id=%{id}<br>Make=%{customdata[0]}<extra></extra>\",\"ids\":[\"BMW/330E\",\"RIVIAN/EDV\",\"VOLKSWAGEN/E-GOLF\",\"TESLA/CYBERTRUCK\",\"FORD/C-MAX\",\"TOYOTA/BZ4X\",\"CHEVROLET/BRIGHTDROP 400\",\"CHEVROLET/BOLT EUV\",\"CHEVROLET/BOLT EV\",\"NISSAN/ARIYA\",\"BMW/750E\",\"BMW/745LE\",\"BMW/745E\",\"BMW/740E\",\"BMW/550E\",\"BMW/530E\",\"CHEVROLET/BLAZER EV\",\"FORD/FOCUS\",\"BMW/I3\",\"FORD/FUSION\",\"FORD/F-150\",\"FORD/ESCAPE\",\"KIA/EV6\",\"CHEVROLET/EQUINOX EV\",\"KIA/EV9\",\"BMW/I4\",\"BMW/I5\",\"BMW/I7\",\"BMW/I8\",\"VOLKSWAGEN/ID. BUZZ\",\"VOLKSWAGEN/ID.4\",\"HYUNDAI/IONIQ\",\"HYUNDAI/IONIQ 5\",\"BMW/M5\",\"TESLA/MODEL 3\",\"TOYOTA/MIRAI\",\"NISSAN/LEAF\",\"HYUNDAI/IONIQ 6\",\"HYUNDAI/KONA\",\"BMW/IX\",\"HYUNDAI/IONIQ 5 N\",\"HYUNDAI/KONA ELECTRIC\",\"TESLA/MODEL S\",\"TESLA/MODEL X\",\"TESLA/MODEL Y\",\"FORD/MUSTANG MACH-E\",\"KIA/NIRO\",\"KIA/OPTIMA\",\"TOYOTA/PRIUS PLUG-IN\",\"TOYOTA/PRIUS PRIME\",\"RIVIAN/R1S\",\"RIVIAN/R1T\",\"TOYOTA/RAV4 PRIME\",\"TOYOTA/RAV4\",\"FORD/RANGER\",\"TESLA/ROADSTER\",\"HYUNDAI/SANTA FE\",\"CHEVROLET/SILVERADO EV\",\"HYUNDAI/SONATA\",\"KIA/SORENTO\",\"KIA/SOUL\",\"KIA/SOUL EV\",\"CHEVROLET/SPARK\",\"KIA/SPORTAGE\",\"FORD/TRANSIT\",\"HYUNDAI/TUCSON\",\"CHEVROLET/VOLT\",\"BMW/X5\",\"BMW/X3\",\"BMW/XM\",\"BMW\",\"CHEVROLET\",\"FORD\",\"HYUNDAI\",\"KIA\",\"NISSAN\",\"RIVIAN\",\"TESLA\",\"TOYOTA\",\"VOLKSWAGEN\"],\"labels\":[\"330E\",\"EDV\",\"E-GOLF\",\"CYBERTRUCK\",\"C-MAX\",\"BZ4X\",\"BRIGHTDROP 400\",\"BOLT EUV\",\"BOLT EV\",\"ARIYA\",\"750E\",\"745LE\",\"745E\",\"740E\",\"550E\",\"530E\",\"BLAZER EV\",\"FOCUS\",\"I3\",\"FUSION\",\"F-150\",\"ESCAPE\",\"EV6\",\"EQUINOX EV\",\"EV9\",\"I4\",\"I5\",\"I7\",\"I8\",\"ID. BUZZ\",\"ID.4\",\"IONIQ\",\"IONIQ 5\",\"M5\",\"MODEL 3\",\"MIRAI\",\"LEAF\",\"IONIQ 6\",\"KONA\",\"IX\",\"IONIQ 5 N\",\"KONA ELECTRIC\",\"MODEL S\",\"MODEL X\",\"MODEL Y\",\"MUSTANG MACH-E\",\"NIRO\",\"OPTIMA\",\"PRIUS PLUG-IN\",\"PRIUS PRIME\",\"R1S\",\"R1T\",\"RAV4 PRIME\",\"RAV4\",\"RANGER\",\"ROADSTER\",\"SANTA FE\",\"SILVERADO EV\",\"SONATA\",\"SORENTO\",\"SOUL\",\"SOUL EV\",\"SPARK\",\"SPORTAGE\",\"TRANSIT\",\"TUCSON\",\"VOLT\",\"X5\",\"X3\",\"XM\",\"BMW\",\"CHEVROLET\",\"FORD\",\"HYUNDAI\",\"KIA\",\"NISSAN\",\"RIVIAN\",\"TESLA\",\"TOYOTA\",\"VOLKSWAGEN\"],\"marker\":{\"colors\":[\"rgb(141,211,199)\",\"rgb(255,255,179)\",\"rgb(190,186,218)\",\"rgb(251,128,114)\",\"rgb(128,177,211)\",\"rgb(253,180,98)\",\"rgb(179,222,105)\",\"rgb(179,222,105)\",\"rgb(179,222,105)\",\"rgb(252,205,229)\",\"rgb(141,211,199)\",\"rgb(141,211,199)\",\"rgb(141,211,199)\",\"rgb(141,211,199)\",\"rgb(141,211,199)\",\"rgb(141,211,199)\",\"rgb(179,222,105)\",\"rgb(128,177,211)\",\"rgb(141,211,199)\",\"rgb(128,177,211)\",\"rgb(128,177,211)\",\"rgb(128,177,211)\",\"rgb(217,217,217)\",\"rgb(179,222,105)\",\"rgb(217,217,217)\",\"rgb(141,211,199)\",\"rgb(141,211,199)\",\"rgb(141,211,199)\",\"rgb(141,211,199)\",\"rgb(190,186,218)\",\"rgb(190,186,218)\",\"rgb(188,128,189)\",\"rgb(188,128,189)\",\"rgb(141,211,199)\",\"rgb(251,128,114)\",\"rgb(253,180,98)\",\"rgb(252,205,229)\",\"rgb(188,128,189)\",\"rgb(188,128,189)\",\"rgb(141,211,199)\",\"rgb(188,128,189)\",\"rgb(188,128,189)\",\"rgb(251,128,114)\",\"rgb(251,128,114)\",\"rgb(251,128,114)\",\"rgb(128,177,211)\",\"rgb(217,217,217)\",\"rgb(217,217,217)\",\"rgb(253,180,98)\",\"rgb(253,180,98)\",\"rgb(255,255,179)\",\"rgb(255,255,179)\",\"rgb(253,180,98)\",\"rgb(253,180,98)\",\"rgb(128,177,211)\",\"rgb(251,128,114)\",\"rgb(188,128,189)\",\"rgb(179,222,105)\",\"rgb(188,128,189)\",\"rgb(217,217,217)\",\"rgb(217,217,217)\",\"rgb(217,217,217)\",\"rgb(179,222,105)\",\"rgb(217,217,217)\",\"rgb(128,177,211)\",\"rgb(188,128,189)\",\"rgb(179,222,105)\",\"rgb(141,211,199)\",\"rgb(141,211,199)\",\"rgb(141,211,199)\",\"rgb(141,211,199)\",\"rgb(179,222,105)\",\"rgb(128,177,211)\",\"rgb(188,128,189)\",\"rgb(217,217,217)\",\"rgb(252,205,229)\",\"rgb(255,255,179)\",\"rgb(251,128,114)\",\"rgb(253,180,98)\",\"rgb(190,186,218)\"]},\"name\":\"\",\"parents\":[\"BMW\",\"RIVIAN\",\"VOLKSWAGEN\",\"TESLA\",\"FORD\",\"TOYOTA\",\"CHEVROLET\",\"CHEVROLET\",\"CHEVROLET\",\"NISSAN\",\"BMW\",\"BMW\",\"BMW\",\"BMW\",\"BMW\",\"BMW\",\"CHEVROLET\",\"FORD\",\"BMW\",\"FORD\",\"FORD\",\"FORD\",\"KIA\",\"CHEVROLET\",\"KIA\",\"BMW\",\"BMW\",\"BMW\",\"BMW\",\"VOLKSWAGEN\",\"VOLKSWAGEN\",\"HYUNDAI\",\"HYUNDAI\",\"BMW\",\"TESLA\",\"TOYOTA\",\"NISSAN\",\"HYUNDAI\",\"HYUNDAI\",\"BMW\",\"HYUNDAI\",\"HYUNDAI\",\"TESLA\",\"TESLA\",\"TESLA\",\"FORD\",\"KIA\",\"KIA\",\"TOYOTA\",\"TOYOTA\",\"RIVIAN\",\"RIVIAN\",\"TOYOTA\",\"TOYOTA\",\"FORD\",\"TESLA\",\"HYUNDAI\",\"CHEVROLET\",\"HYUNDAI\",\"KIA\",\"KIA\",\"KIA\",\"CHEVROLET\",\"KIA\",\"FORD\",\"HYUNDAI\",\"CHEVROLET\",\"BMW\",\"BMW\",\"BMW\",\"\",\"\",\"\",\"\",\"\",\"\",\"\",\"\",\"\",\"\"],\"values\":[515,842,1070,1292,1454,1342,1,2860,7278,1718,4,3,15,27,6,436,880,229,1944,1708,3016,562,3430,870,1387,1657,222,62,92,64,4842,321,4056,10,36065,2,13814,682,238,1297,43,1153,7885,6535,49253,5109,3892,98,945,3398,3641,2267,3734,57,7,50,253,301,77,785,380,207,236,1166,520,583,4709,2988,344,25,9647,17135,12605,7406,11345,15532,6750,101080,9478,5976],\"type\":\"treemap\"}],                        {\"template\":{\"data\":{\"histogram2dcontour\":[{\"type\":\"histogram2dcontour\",\"colorbar\":{\"outlinewidth\":0,\"ticks\":\"\"},\"colorscale\":[[0.0,\"#0d0887\"],[0.1111111111111111,\"#46039f\"],[0.2222222222222222,\"#7201a8\"],[0.3333333333333333,\"#9c179e\"],[0.4444444444444444,\"#bd3786\"],[0.5555555555555556,\"#d8576b\"],[0.6666666666666666,\"#ed7953\"],[0.7777777777777778,\"#fb9f3a\"],[0.8888888888888888,\"#fdca26\"],[1.0,\"#f0f921\"]]}],\"choropleth\":[{\"type\":\"choropleth\",\"colorbar\":{\"outlinewidth\":0,\"ticks\":\"\"}}],\"histogram2d\":[{\"type\":\"histogram2d\",\"colorbar\":{\"outlinewidth\":0,\"ticks\":\"\"},\"colorscale\":[[0.0,\"#0d0887\"],[0.1111111111111111,\"#46039f\"],[0.2222222222222222,\"#7201a8\"],[0.3333333333333333,\"#9c179e\"],[0.4444444444444444,\"#bd3786\"],[0.5555555555555556,\"#d8576b\"],[0.6666666666666666,\"#ed7953\"],[0.7777777777777778,\"#fb9f3a\"],[0.8888888888888888,\"#fdca26\"],[1.0,\"#f0f921\"]]}],\"heatmap\":[{\"type\":\"heatmap\",\"colorbar\":{\"outlinewidth\":0,\"ticks\":\"\"},\"colorscale\":[[0.0,\"#0d0887\"],[0.1111111111111111,\"#46039f\"],[0.2222222222222222,\"#7201a8\"],[0.3333333333333333,\"#9c179e\"],[0.4444444444444444,\"#bd3786\"],[0.5555555555555556,\"#d8576b\"],[0.6666666666666666,\"#ed7953\"],[0.7777777777777778,\"#fb9f3a\"],[0.8888888888888888,\"#fdca26\"],[1.0,\"#f0f921\"]]}],\"heatmapgl\":[{\"type\":\"heatmapgl\",\"colorbar\":{\"outlinewidth\":0,\"ticks\":\"\"},\"colorscale\":[[0.0,\"#0d0887\"],[0.1111111111111111,\"#46039f\"],[0.2222222222222222,\"#7201a8\"],[0.3333333333333333,\"#9c179e\"],[0.4444444444444444,\"#bd3786\"],[0.5555555555555556,\"#d8576b\"],[0.6666666666666666,\"#ed7953\"],[0.7777777777777778,\"#fb9f3a\"],[0.8888888888888888,\"#fdca26\"],[1.0,\"#f0f921\"]]}],\"contourcarpet\":[{\"type\":\"contourcarpet\",\"colorbar\":{\"outlinewidth\":0,\"ticks\":\"\"}}],\"contour\":[{\"type\":\"contour\",\"colorbar\":{\"outlinewidth\":0,\"ticks\":\"\"},\"colorscale\":[[0.0,\"#0d0887\"],[0.1111111111111111,\"#46039f\"],[0.2222222222222222,\"#7201a8\"],[0.3333333333333333,\"#9c179e\"],[0.4444444444444444,\"#bd3786\"],[0.5555555555555556,\"#d8576b\"],[0.6666666666666666,\"#ed7953\"],[0.7777777777777778,\"#fb9f3a\"],[0.8888888888888888,\"#fdca26\"],[1.0,\"#f0f921\"]]}],\"surface\":[{\"type\":\"surface\",\"colorbar\":{\"outlinewidth\":0,\"ticks\":\"\"},\"colorscale\":[[0.0,\"#0d0887\"],[0.1111111111111111,\"#46039f\"],[0.2222222222222222,\"#7201a8\"],[0.3333333333333333,\"#9c179e\"],[0.4444444444444444,\"#bd3786\"],[0.5555555555555556,\"#d8576b\"],[0.6666666666666666,\"#ed7953\"],[0.7777777777777778,\"#fb9f3a\"],[0.8888888888888888,\"#fdca26\"],[1.0,\"#f0f921\"]]}],\"mesh3d\":[{\"type\":\"mesh3d\",\"colorbar\":{\"outlinewidth\":0,\"ticks\":\"\"}}],\"scatter\":[{\"fillpattern\":{\"fillmode\":\"overlay\",\"size\":10,\"solidity\":0.2},\"type\":\"scatter\"}],\"parcoords\":[{\"type\":\"parcoords\",\"line\":{\"colorbar\":{\"outlinewidth\":0,\"ticks\":\"\"}}}],\"scatterpolargl\":[{\"type\":\"scatterpolargl\",\"marker\":{\"colorbar\":{\"outlinewidth\":0,\"ticks\":\"\"}}}],\"bar\":[{\"error_x\":{\"color\":\"#2a3f5f\"},\"error_y\":{\"color\":\"#2a3f5f\"},\"marker\":{\"line\":{\"color\":\"#E5ECF6\",\"width\":0.5},\"pattern\":{\"fillmode\":\"overlay\",\"size\":10,\"solidity\":0.2}},\"type\":\"bar\"}],\"scattergeo\":[{\"type\":\"scattergeo\",\"marker\":{\"colorbar\":{\"outlinewidth\":0,\"ticks\":\"\"}}}],\"scatterpolar\":[{\"type\":\"scatterpolar\",\"marker\":{\"colorbar\":{\"outlinewidth\":0,\"ticks\":\"\"}}}],\"histogram\":[{\"marker\":{\"pattern\":{\"fillmode\":\"overlay\",\"size\":10,\"solidity\":0.2}},\"type\":\"histogram\"}],\"scattergl\":[{\"type\":\"scattergl\",\"marker\":{\"colorbar\":{\"outlinewidth\":0,\"ticks\":\"\"}}}],\"scatter3d\":[{\"type\":\"scatter3d\",\"line\":{\"colorbar\":{\"outlinewidth\":0,\"ticks\":\"\"}},\"marker\":{\"colorbar\":{\"outlinewidth\":0,\"ticks\":\"\"}}}],\"scattermapbox\":[{\"type\":\"scattermapbox\",\"marker\":{\"colorbar\":{\"outlinewidth\":0,\"ticks\":\"\"}}}],\"scatterternary\":[{\"type\":\"scatterternary\",\"marker\":{\"colorbar\":{\"outlinewidth\":0,\"ticks\":\"\"}}}],\"scattercarpet\":[{\"type\":\"scattercarpet\",\"marker\":{\"colorbar\":{\"outlinewidth\":0,\"ticks\":\"\"}}}],\"carpet\":[{\"aaxis\":{\"endlinecolor\":\"#2a3f5f\",\"gridcolor\":\"white\",\"linecolor\":\"white\",\"minorgridcolor\":\"white\",\"startlinecolor\":\"#2a3f5f\"},\"baxis\":{\"endlinecolor\":\"#2a3f5f\",\"gridcolor\":\"white\",\"linecolor\":\"white\",\"minorgridcolor\":\"white\",\"startlinecolor\":\"#2a3f5f\"},\"type\":\"carpet\"}],\"table\":[{\"cells\":{\"fill\":{\"color\":\"#EBF0F8\"},\"line\":{\"color\":\"white\"}},\"header\":{\"fill\":{\"color\":\"#C8D4E3\"},\"line\":{\"color\":\"white\"}},\"type\":\"table\"}],\"barpolar\":[{\"marker\":{\"line\":{\"color\":\"#E5ECF6\",\"width\":0.5},\"pattern\":{\"fillmode\":\"overlay\",\"size\":10,\"solidity\":0.2}},\"type\":\"barpolar\"}],\"pie\":[{\"automargin\":true,\"type\":\"pie\"}]},\"layout\":{\"autotypenumbers\":\"strict\",\"colorway\":[\"#636efa\",\"#EF553B\",\"#00cc96\",\"#ab63fa\",\"#FFA15A\",\"#19d3f3\",\"#FF6692\",\"#B6E880\",\"#FF97FF\",\"#FECB52\"],\"font\":{\"color\":\"#2a3f5f\"},\"hovermode\":\"closest\",\"hoverlabel\":{\"align\":\"left\"},\"paper_bgcolor\":\"white\",\"plot_bgcolor\":\"#E5ECF6\",\"polar\":{\"bgcolor\":\"#E5ECF6\",\"angularaxis\":{\"gridcolor\":\"white\",\"linecolor\":\"white\",\"ticks\":\"\"},\"radialaxis\":{\"gridcolor\":\"white\",\"linecolor\":\"white\",\"ticks\":\"\"}},\"ternary\":{\"bgcolor\":\"#E5ECF6\",\"aaxis\":{\"gridcolor\":\"white\",\"linecolor\":\"white\",\"ticks\":\"\"},\"baxis\":{\"gridcolor\":\"white\",\"linecolor\":\"white\",\"ticks\":\"\"},\"caxis\":{\"gridcolor\":\"white\",\"linecolor\":\"white\",\"ticks\":\"\"}},\"coloraxis\":{\"colorbar\":{\"outlinewidth\":0,\"ticks\":\"\"}},\"colorscale\":{\"sequential\":[[0.0,\"#0d0887\"],[0.1111111111111111,\"#46039f\"],[0.2222222222222222,\"#7201a8\"],[0.3333333333333333,\"#9c179e\"],[0.4444444444444444,\"#bd3786\"],[0.5555555555555556,\"#d8576b\"],[0.6666666666666666,\"#ed7953\"],[0.7777777777777778,\"#fb9f3a\"],[0.8888888888888888,\"#fdca26\"],[1.0,\"#f0f921\"]],\"sequentialminus\":[[0.0,\"#0d0887\"],[0.1111111111111111,\"#46039f\"],[0.2222222222222222,\"#7201a8\"],[0.3333333333333333,\"#9c179e\"],[0.4444444444444444,\"#bd3786\"],[0.5555555555555556,\"#d8576b\"],[0.6666666666666666,\"#ed7953\"],[0.7777777777777778,\"#fb9f3a\"],[0.8888888888888888,\"#fdca26\"],[1.0,\"#f0f921\"]],\"diverging\":[[0,\"#8e0152\"],[0.1,\"#c51b7d\"],[0.2,\"#de77ae\"],[0.3,\"#f1b6da\"],[0.4,\"#fde0ef\"],[0.5,\"#f7f7f7\"],[0.6,\"#e6f5d0\"],[0.7,\"#b8e186\"],[0.8,\"#7fbc41\"],[0.9,\"#4d9221\"],[1,\"#276419\"]]},\"xaxis\":{\"gridcolor\":\"white\",\"linecolor\":\"white\",\"ticks\":\"\",\"title\":{\"standoff\":15},\"zerolinecolor\":\"white\",\"automargin\":true,\"zerolinewidth\":2},\"yaxis\":{\"gridcolor\":\"white\",\"linecolor\":\"white\",\"ticks\":\"\",\"title\":{\"standoff\":15},\"zerolinecolor\":\"white\",\"automargin\":true,\"zerolinewidth\":2},\"scene\":{\"xaxis\":{\"backgroundcolor\":\"#E5ECF6\",\"gridcolor\":\"white\",\"linecolor\":\"white\",\"showbackground\":true,\"ticks\":\"\",\"zerolinecolor\":\"white\",\"gridwidth\":2},\"yaxis\":{\"backgroundcolor\":\"#E5ECF6\",\"gridcolor\":\"white\",\"linecolor\":\"white\",\"showbackground\":true,\"ticks\":\"\",\"zerolinecolor\":\"white\",\"gridwidth\":2},\"zaxis\":{\"backgroundcolor\":\"#E5ECF6\",\"gridcolor\":\"white\",\"linecolor\":\"white\",\"showbackground\":true,\"ticks\":\"\",\"zerolinecolor\":\"white\",\"gridwidth\":2}},\"shapedefaults\":{\"line\":{\"color\":\"#2a3f5f\"}},\"annotationdefaults\":{\"arrowcolor\":\"#2a3f5f\",\"arrowhead\":0,\"arrowwidth\":1},\"geo\":{\"bgcolor\":\"white\",\"landcolor\":\"#E5ECF6\",\"subunitcolor\":\"white\",\"showland\":true,\"showlakes\":true,\"lakecolor\":\"white\"},\"title\":{\"x\":0.05},\"mapbox\":{\"style\":\"light\"}}},\"legend\":{\"tracegroupgap\":0},\"title\":{\"text\":\"EV Make and Model Distribution in Washington (Top 10 Makes)\"},\"treemapcolorway\":[\"rgb(141,211,199)\",\"rgb(255,255,179)\",\"rgb(190,186,218)\",\"rgb(251,128,114)\",\"rgb(128,177,211)\",\"rgb(253,180,98)\",\"rgb(179,222,105)\",\"rgb(252,205,229)\",\"rgb(217,217,217)\",\"rgb(188,128,189)\",\"rgb(204,235,197)\",\"rgb(255,237,111)\"]},                        {\"responsive\": true}                    ).then(function(){\n",
       "                            \n",
       "var gd = document.getElementById('90f9cf10-b64f-46f6-9434-0322922c251b');\n",
       "var x = new MutationObserver(function (mutations, observer) {{\n",
       "        var display = window.getComputedStyle(gd).display;\n",
       "        if (!display || display === 'none') {{\n",
       "            console.log([gd, 'removed!']);\n",
       "            Plotly.purge(gd);\n",
       "            observer.disconnect();\n",
       "        }}\n",
       "}});\n",
       "\n",
       "// Listen for the removal of the full notebook cells\n",
       "var notebookContainer = gd.closest('#notebook-container');\n",
       "if (notebookContainer) {{\n",
       "    x.observe(notebookContainer, {childList: true});\n",
       "}}\n",
       "\n",
       "// Listen for the clearing of the current output cell\n",
       "var outputEl = gd.closest('.output');\n",
       "if (outputEl) {{\n",
       "    x.observe(outputEl, {childList: true});\n",
       "}}\n",
       "\n",
       "                        })                };                });            </script>        </div>"
      ]
     },
     "metadata": {},
     "output_type": "display_data"
    }
   ],
   "source": [
    "import pandas as pd\n",
    "import plotly.express as px\n",
    "\n",
    "# Loading the \n",
    "df = pd.read_csv(\"Electric_Vehicle_Population_Data.csv\")\n",
    "\n",
    "# Cleaning up data, grouping it\n",
    "df_clean = df.dropna(subset=['Make', 'Model'])\n",
    "make_model_counts = df_clean.groupby(['Make', 'Model']).size().reset_index(name='count')\n",
    "\n",
    "# Focusing only on top 10 makes to declutter the data\n",
    "top_makes = make_model_counts.groupby('Make')['count'].sum().nlargest(10).index\n",
    "filtered = make_model_counts[make_model_counts['Make'].isin(top_makes)]\n",
    "\n",
    "# Building the treemap; color based on makes\n",
    "fig = px.treemap(\n",
    "    filtered,\n",
    "    path=['Make', 'Model'],\n",
    "    values='count',\n",
    "    color='Make',  \n",
    "    title='EV Make and Model Distribution in Washington (Top 10 Makes)',\n",
    "    color_discrete_sequence=px.colors.qualitative.Set3  \n",
    ")\n",
    "\n",
    "fig.write_html(\"ev_treemap.html\")\n",
    "\n",
    "\n",
    "fig.show()\n",
    "\n"
   ]
  },
  {
   "cell_type": "code",
   "execution_count": 2,
   "id": "7056cda6",
   "metadata": {},
   "outputs": [
    {
     "data": {
      "image/png": "[encoded data removed]",
      "text/plain": [
       "<Figure size 1000x600 with 1 Axes>"
      ]
     },
     "metadata": {},
     "output_type": "display_data"
    }
   ],
   "source": [
    "import pandas as pd\n",
    "import matplotlib.pyplot as plt\n",
    "\n",
    "# Loading the dataset\n",
    "df = pd.read_csv(\"Electric_Vehicle_Population_Data.csv\")\n",
    "\n",
    "# Count number of evs per utility\n",
    "utility_counts = df['Electric Utility'].value_counts().head(10)\n",
    "\n",
    "# Plotting the barchart\n",
    "plt.figure(figsize=(10, 6))\n",
    "utility_counts.sort_values().plot(kind='barh', color='skyblue', edgecolor='black')\n",
    "\n",
    "# Add titles and labels\n",
    "plt.xlabel(\"Number of Electric Vehicles\")\n",
    "plt.ylabel(\"Electric Utility\")\n",
    "plt.title(\"Top 10 Electric Utilities by Number of EVs in Washington\")\n",
    "plt.tight_layout()\n",
    "plt.show()\n"
   ]
  },
  {
   "cell_type": "code",
   "execution_count": null,
   "id": "ec0e97de",
   "metadata": {},
   "outputs": [],
   "source": []
  }
 ],
 "metadata": {
  "kernelspec": {
   "display_name": "Python 3 (ipykernel)",
   "language": "python",
   "name": "python3"
  },
  "language_info": {
   "codemirror_mode": {
    "name": "ipython",
    "version": 3
   },
   "file_extension": ".py",
   "mimetype": "text/x-python",
   "name": "python",
   "nbconvert_exporter": "python",
   "pygments_lexer": "ipython3",
   "version": "3.11.4"
  }
 },
 "nbformat": 4,
 "nbformat_minor": 5
}
